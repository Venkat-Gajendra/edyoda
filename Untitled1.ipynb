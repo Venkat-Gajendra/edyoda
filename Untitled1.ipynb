{
 "cells": [
  {
   "cell_type": "code",
   "execution_count": null,
   "id": "3daf6e0f-7d38-4c42-a557-4fe5492f622f",
   "metadata": {},
   "outputs": [],
   "source": [
    "#1 Write a program to find all pairs of an integer array whose sum is equal to a given number?\n",
    "arr=[]\n",
    "lenth= int(input(\"enter no of items : \"))\n",
    "for i in range(lenth):\n",
    "    num=int(input(f\"enter the {i+1} th number : \"))\n",
    "    arr.append(num)\n",
    "num= int (input(\"Enter number for pair\"))\n",
    "def pairs(arr,num):\n",
    "    pair=set()\n",
    "    for i in range(len(arr)):\n",
    "        for j in range(i+1,len(arr)):\n",
    "            # print(arr[i],arr[j],num)\n",
    "            if arr[i]+arr[j]==num:\n",
    "                pa=(min(arr[i],arr[j]),max(arr[i],arr[j]))\n",
    "                pair.add(pa)\n",
    "    if not pair:\n",
    "        print (\"No Pairs found!\",end=\" \")\n",
    "    else:\n",
    "        return pair\n",
    "print(pairs(arr,num))"
   ]
  },
  {
   "cell_type": "raw",
   "id": "d2005942-4eb2-4190-9e21-d5d7b5861a0d",
   "metadata": {},
   "source": [
    "enter no of items :  5\n",
    "enter the 1 th number :  1\n",
    "enter the 2 th number :  2\n",
    "enter the 3 th number :  4\n",
    "enter the 4 th number :  8\n",
    "enter the 5 th number :  16\n",
    "Enter number for pair 32\n",
    "No Pairs found!None"
   ]
  },
  {
   "cell_type": "code",
   "execution_count": null,
   "id": "70c005ce-122e-4b80-a601-d3ca6f83f20f",
   "metadata": {},
   "outputs": [],
   "source": [
    "# Q2. Write a program to reverse an array in place? In place means you cannot create a new array. You have to update the original array.\n",
    "def reverse(arr):\n",
    "    left, right = 0, len(arr) - 1  # Initialize two pointers\n",
    "\n",
    "    while left < right:\n",
    "        # Swap the elements at the left and right pointers\n",
    "        arr[left], arr[right] = arr[right], arr[left]\n",
    "\n",
    "        # Move the pointers towards each other\n",
    "        left += 1\n",
    "        right -= 1\n",
    "    return arr\n",
    "arr=[]\n",
    "lenth= int(input(\"enter no of items : \"))\n",
    "for i in range(lenth):\n",
    "    num=int(input(f\"enter the{i+1}th number : \"))\n",
    "    arr.append(num)\n",
    "print(reverse(arr))"
   ]
  },
  {
   "cell_type": "raw",
   "id": "b9dc42d1-68ab-43c2-ac52-95d540ef6048",
   "metadata": {},
   "source": [
    "enter no of items :  5\n",
    "enter the1th number :  1\n",
    "enter the2th number :  2\n",
    "enter the3th number :  3\n",
    "enter the4th number :  4\n",
    "enter the5th number :  5\n",
    "[5, 4, 3, 2, 1]"
   ]
  },
  {
   "cell_type": "code",
   "execution_count": null,
   "id": "81651831-7925-4845-ae88-24506f6b82fe",
   "metadata": {},
   "outputs": [],
   "source": []
  }
 ],
 "metadata": {
  "kernelspec": {
   "display_name": "Python 3 (ipykernel)",
   "language": "python",
   "name": "python3"
  },
  "language_info": {
   "codemirror_mode": {
    "name": "ipython",
    "version": 3
   },
   "file_extension": ".py",
   "mimetype": "text/x-python",
   "name": "python",
   "nbconvert_exporter": "python",
   "pygments_lexer": "ipython3",
   "version": "3.8.0"
  }
 },
 "nbformat": 4,
 "nbformat_minor": 5
}
